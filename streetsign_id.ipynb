{
 "cells": [
  {
   "cell_type": "code",
   "execution_count": 1,
   "metadata": {},
   "outputs": [],
   "source": [
    "import tensorflow as tf"
   ]
  },
  {
   "cell_type": "markdown",
   "metadata": {},
   "source": [
    "Tensorflow, by default, runs code as chunks. So when you do the following, you don't get the answer you'd expect - it gives you a tensor object that hasn't actually been calculated yet."
   ]
  },
  {
   "cell_type": "code",
   "execution_count": 5,
   "metadata": {},
   "outputs": [
    {
     "name": "stdout",
     "output_type": "stream",
     "text": [
      "Tensor(\"Mul_1:0\", shape=(4,), dtype=int32)\n"
     ]
    }
   ],
   "source": [
    "x1 = tf.constant([1,2,3,4])\n",
    "x2 = tf.constant([5,6,7,8])\n",
    "result = tf.multiply(x1, x2)\n",
    "print(result)"
   ]
  },
  {
   "cell_type": "markdown",
   "metadata": {},
   "source": [
    "Note that a constant is an assigned value that does not change. Placeholders are unassigned values that are initialized by the session when you run it. Variables are values that can change."
   ]
  },
  {
   "cell_type": "markdown",
   "metadata": {},
   "source": [
    "An interactive session in Tensorflow works more like Python."
   ]
  },
  {
   "cell_type": "code",
   "execution_count": 6,
   "metadata": {},
   "outputs": [
    {
     "name": "stdout",
     "output_type": "stream",
     "text": [
      "[ 5 12 21 32]\n"
     ]
    }
   ],
   "source": [
    "x1 = tf.constant([1,2,3,4])\n",
    "x2 = tf.constant([5,6,7,8])\n",
    "result = tf.multiply(x1, x2)\n",
    "\n",
    "sess = tf.Session()\n",
    "print(sess.run(result))\n",
    "sess.close()"
   ]
  },
  {
   "cell_type": "markdown",
   "metadata": {},
   "source": [
    "Or alternatively:"
   ]
  },
  {
   "cell_type": "code",
   "execution_count": 7,
   "metadata": {},
   "outputs": [
    {
     "name": "stdout",
     "output_type": "stream",
     "text": [
      "[ 5 12 21 32]\n"
     ]
    }
   ],
   "source": [
    "with tf.Session() as sess:\n",
    "    output = sess.run(result)\n",
    "    print(output)"
   ]
  },
  {
   "cell_type": "markdown",
   "metadata": {},
   "source": [
    "note that config=tf.ConfigProto(kwargs) can be used to configure the session"
   ]
  },
  {
   "cell_type": "markdown",
   "metadata": {},
   "source": [
    "Now we write a function that loads in the data. This reads each file in the trainingand test sets."
   ]
  },
  {
   "cell_type": "code",
   "execution_count": 16,
   "metadata": {},
   "outputs": [],
   "source": [
    "import os\n",
    "import skimage.io"
   ]
  },
  {
   "cell_type": "code",
   "execution_count": 17,
   "metadata": {},
   "outputs": [],
   "source": [
    "def load_data(data_directory):\n",
    "    directories = [d for d in os.listdir(data_directory) \n",
    "                   if os.path.isdir(os.path.join(data_directory, d))]\n",
    "    labels = []\n",
    "    images = []\n",
    "    for d in directories:\n",
    "        label_directory = os.path.join(data_directory, d)\n",
    "        file_names = [os.path.join(label_directory, f) \n",
    "                      for f in os.listdir(label_directory) \n",
    "                      if f.endswith(\".ppm\")]\n",
    "        for f in file_names:\n",
    "            images.append(skimage.io.imread(f))\n",
    "            labels.append(int(d))\n",
    "    return images, labels"
   ]
  },
  {
   "cell_type": "code",
   "execution_count": null,
   "metadata": {},
   "outputs": [],
   "source": [
    "ROOT_PATH = \"/your/root/path\"\n",
    "train_data_directory = os.path.join(ROOT_PATH, \"Training\")\n",
    "test_data_directory = os.path.join(ROOT_PATH, \"Testing\")\n",
    "\n",
    "images, labels = load_data(train_data_directory)"
   ]
  },
  {
   "cell_type": "code",
   "execution_count": 18,
   "metadata": {},
   "outputs": [],
   "source": [
    "images, labels = load_data(\"Training\")"
   ]
  },
  {
   "cell_type": "code",
   "execution_count": 20,
   "metadata": {},
   "outputs": [
    {
     "data": {
      "text/plain": [
       "array([[[ 47,  52,  59],\n",
       "        [ 35,  64,  72],\n",
       "        [ 53, 104, 112],\n",
       "        ...,\n",
       "        [ 75,  82,  60],\n",
       "        [ 72,  77,  55],\n",
       "        [ 68,  71,  50]],\n",
       "\n",
       "       [[ 46,  51,  57],\n",
       "        [ 38,  66,  74],\n",
       "        [ 58, 109, 115],\n",
       "        ...,\n",
       "        [ 74,  84,  62],\n",
       "        [ 76,  84,  62],\n",
       "        [ 76,  83,  61]],\n",
       "\n",
       "       [[ 44,  50,  56],\n",
       "        [ 44,  71,  79],\n",
       "        [ 59, 109, 115],\n",
       "        ...,\n",
       "        [ 71,  83,  61],\n",
       "        [ 74,  84,  63],\n",
       "        [ 75,  84,  63]],\n",
       "\n",
       "       ...,\n",
       "\n",
       "       [[120, 141, 139],\n",
       "        [119, 144, 138],\n",
       "        [114, 141, 131],\n",
       "        ...,\n",
       "        [ 33,  30,  27],\n",
       "        [ 32,  30,  28],\n",
       "        [ 30,  30,  28]],\n",
       "\n",
       "       [[133, 151, 145],\n",
       "        [124, 146, 138],\n",
       "        [111, 137, 127],\n",
       "        ...,\n",
       "        [ 31,  30,  25],\n",
       "        [ 32,  32,  27],\n",
       "        [ 33,  33,  30]],\n",
       "\n",
       "       [[139, 158, 147],\n",
       "        [124, 146, 137],\n",
       "        [107, 132, 123],\n",
       "        ...,\n",
       "        [ 31,  30,  23],\n",
       "        [ 33,  33,  27],\n",
       "        [ 35,  36,  31]]], dtype=uint8)"
      ]
     },
     "execution_count": 20,
     "metadata": {},
     "output_type": "execute_result"
    }
   ],
   "source": [
    "images"
   ]
  },
  {
   "cell_type": "code",
   "execution_count": 22,
   "metadata": {},
   "outputs": [
    {
     "data": {
      "text/plain": [
       "31"
      ]
     },
     "execution_count": 22,
     "metadata": {},
     "output_type": "execute_result"
    }
   ],
   "source": [
    "labels[0]"
   ]
  },
  {
   "cell_type": "code",
   "execution_count": null,
   "metadata": {},
   "outputs": [],
   "source": []
  }
 ],
 "metadata": {
  "kernelspec": {
   "display_name": "Python 3",
   "language": "python",
   "name": "python3"
  },
  "language_info": {
   "codemirror_mode": {
    "name": "ipython",
    "version": 3
   },
   "file_extension": ".py",
   "mimetype": "text/x-python",
   "name": "python",
   "nbconvert_exporter": "python",
   "pygments_lexer": "ipython3",
   "version": "3.6.6"
  }
 },
 "nbformat": 4,
 "nbformat_minor": 2
}
